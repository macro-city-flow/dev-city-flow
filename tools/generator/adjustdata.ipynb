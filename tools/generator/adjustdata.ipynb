{
 "cells": [
  {
   "cell_type": "code",
   "execution_count": 1,
   "metadata": {},
   "outputs": [],
   "source": [
    "import pandas as pd\n",
    "import numpy as np\n"
   ]
  },
  {
   "cell_type": "code",
   "execution_count": 7,
   "metadata": {},
   "outputs": [],
   "source": [
    "data = pd.read_csv(\"order.csv\",header=None)"
   ]
  },
  {
   "cell_type": "code",
   "execution_count": 14,
   "metadata": {},
   "outputs": [
    {
     "data": {
      "text/html": [
       "<div>\n",
       "<style scoped>\n",
       "    .dataframe tbody tr th:only-of-type {\n",
       "        vertical-align: middle;\n",
       "    }\n",
       "\n",
       "    .dataframe tbody tr th {\n",
       "        vertical-align: top;\n",
       "    }\n",
       "\n",
       "    .dataframe thead th {\n",
       "        text-align: right;\n",
       "    }\n",
       "</style>\n",
       "<table border=\"1\" class=\"dataframe\">\n",
       "  <thead>\n",
       "    <tr style=\"text-align: right;\">\n",
       "      <th></th>\n",
       "      <th>0</th>\n",
       "      <th>1</th>\n",
       "      <th>2</th>\n",
       "      <th>4</th>\n",
       "      <th>5</th>\n",
       "    </tr>\n",
       "  </thead>\n",
       "  <tbody>\n",
       "    <tr>\n",
       "      <th>0</th>\n",
       "      <td>9wiKXmAeQtAMRXDw</td>\n",
       "      <td>o2Iz2of0SN9CCguR</td>\n",
       "      <td>115.753328</td>\n",
       "      <td>104.057165</td>\n",
       "      <td>30.652979</td>\n",
       "    </tr>\n",
       "    <tr>\n",
       "      <th>1</th>\n",
       "      <td>9wiKXmAeQtAMRXDw</td>\n",
       "      <td>o2Iz2of0SN9CCguR</td>\n",
       "      <td>115.753328</td>\n",
       "      <td>104.048498</td>\n",
       "      <td>30.656291</td>\n",
       "    </tr>\n",
       "    <tr>\n",
       "      <th>2</th>\n",
       "      <td>WoqsiHBVG8Rc4gqW</td>\n",
       "      <td>s0LlvZIdBW5wkGzB</td>\n",
       "      <td>214.327373</td>\n",
       "      <td>104.045758</td>\n",
       "      <td>30.658250</td>\n",
       "    </tr>\n",
       "    <tr>\n",
       "      <th>3</th>\n",
       "      <td>WoqsiHBVG8Rc4gqW</td>\n",
       "      <td>s0LlvZIdBW5wkGzB</td>\n",
       "      <td>214.327373</td>\n",
       "      <td>104.051825</td>\n",
       "      <td>30.665610</td>\n",
       "    </tr>\n",
       "    <tr>\n",
       "      <th>4</th>\n",
       "      <td>4sAqQIH9QdfTQN5f</td>\n",
       "      <td>Zxer5hxK37a07CV9</td>\n",
       "      <td>574.814013</td>\n",
       "      <td>104.057995</td>\n",
       "      <td>30.653514</td>\n",
       "    </tr>\n",
       "  </tbody>\n",
       "</table>\n",
       "</div>"
      ],
      "text/plain": [
       "                  0                 1           2           4          5\n",
       "0  9wiKXmAeQtAMRXDw  o2Iz2of0SN9CCguR  115.753328  104.057165  30.652979\n",
       "1  9wiKXmAeQtAMRXDw  o2Iz2of0SN9CCguR  115.753328  104.048498  30.656291\n",
       "2  WoqsiHBVG8Rc4gqW  s0LlvZIdBW5wkGzB  214.327373  104.045758  30.658250\n",
       "3  WoqsiHBVG8Rc4gqW  s0LlvZIdBW5wkGzB  214.327373  104.051825  30.665610\n",
       "4  4sAqQIH9QdfTQN5f  Zxer5hxK37a07CV9  574.814013  104.057995  30.653514"
      ]
     },
     "execution_count": 14,
     "metadata": {},
     "output_type": "execute_result"
    }
   ],
   "source": [
    "data.head()"
   ]
  },
  {
   "cell_type": "code",
   "execution_count": 10,
   "metadata": {},
   "outputs": [
    {
     "name": "stdout",
     "output_type": "stream",
     "text": [
      "0       30.652979\n",
      "1       30.656291\n",
      "2       30.658250\n",
      "3       30.665610\n",
      "4       30.653514\n",
      "          ...    \n",
      "7623    30.723922\n",
      "7624    30.719101\n",
      "7625    30.715564\n",
      "7626    30.718826\n",
      "7627    30.720774\n",
      "Name: 3, Length: 7628, dtype: float64\n"
     ]
    }
   ],
   "source": [
    "col3 = data[3]\n",
    "col3 = data.icol(3)\n",
    "print(col3)\n",
    "\n",
    "# data.to_csv(\"20210924_order.csv\",index=None)\n",
    "# data.to_csv(\"20210924_order.csv\",index=None)"
   ]
  },
  {
   "cell_type": "code",
   "execution_count": 11,
   "metadata": {},
   "outputs": [],
   "source": [
    "data.drop([3],axis=1,inplace=True)\n"
   ]
  },
  {
   "cell_type": "code",
   "execution_count": 13,
   "metadata": {},
   "outputs": [],
   "source": [
    "data[5] = col3"
   ]
  },
  {
   "cell_type": "code",
   "execution_count": null,
   "metadata": {},
   "outputs": [],
   "source": [
    "data.to_csv(\"20210924_order.csv\",index=None)"
   ]
  }
 ],
 "metadata": {
  "interpreter": {
   "hash": "916dbcbb3f70747c44a77c7bcd40155683ae19c65e1c03b4aa3499c5328201f1"
  },
  "kernelspec": {
   "display_name": "Python 3.8.6 64-bit",
   "name": "python3"
  },
  "language_info": {
   "codemirror_mode": {
    "name": "ipython",
    "version": 3
   },
   "file_extension": ".py",
   "mimetype": "text/x-python",
   "name": "python",
   "nbconvert_exporter": "python",
   "pygments_lexer": "ipython3",
   "version": "3.8.6"
  },
  "orig_nbformat": 4
 },
 "nbformat": 4,
 "nbformat_minor": 2
}