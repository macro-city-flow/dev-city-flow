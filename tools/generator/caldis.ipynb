{
 "cells": [
  {
   "cell_type": "code",
   "execution_count": 1,
   "metadata": {},
   "outputs": [],
   "source": [
    "import pandas as pd\n",
    "import numpy as np\n"
   ]
  },
  {
   "cell_type": "code",
   "execution_count": 3,
   "metadata": {},
   "outputs": [
    {
     "data": {
      "text/html": [
       "<div>\n",
       "<style scoped>\n",
       "    .dataframe tbody tr th:only-of-type {\n",
       "        vertical-align: middle;\n",
       "    }\n",
       "\n",
       "    .dataframe tbody tr th {\n",
       "        vertical-align: top;\n",
       "    }\n",
       "\n",
       "    .dataframe thead th {\n",
       "        text-align: right;\n",
       "    }\n",
       "</style>\n",
       "<table border=\"1\" class=\"dataframe\">\n",
       "  <thead>\n",
       "    <tr style=\"text-align: right;\">\n",
       "      <th></th>\n",
       "      <th>0</th>\n",
       "      <th>1</th>\n",
       "      <th>2</th>\n",
       "      <th>3</th>\n",
       "      <th>4</th>\n",
       "    </tr>\n",
       "  </thead>\n",
       "  <tbody>\n",
       "    <tr>\n",
       "      <th>0</th>\n",
       "      <td>9wiKXmAeQtAMRXDw</td>\n",
       "      <td>o2Iz2of0SN9CCguR</td>\n",
       "      <td>115.753328</td>\n",
       "      <td>104.057165</td>\n",
       "      <td>30.652979</td>\n",
       "    </tr>\n",
       "    <tr>\n",
       "      <th>1</th>\n",
       "      <td>9wiKXmAeQtAMRXDw</td>\n",
       "      <td>o2Iz2of0SN9CCguR</td>\n",
       "      <td>115.753328</td>\n",
       "      <td>104.048498</td>\n",
       "      <td>30.656291</td>\n",
       "    </tr>\n",
       "    <tr>\n",
       "      <th>2</th>\n",
       "      <td>WoqsiHBVG8Rc4gqW</td>\n",
       "      <td>s0LlvZIdBW5wkGzB</td>\n",
       "      <td>214.327373</td>\n",
       "      <td>104.045758</td>\n",
       "      <td>30.658250</td>\n",
       "    </tr>\n",
       "    <tr>\n",
       "      <th>3</th>\n",
       "      <td>WoqsiHBVG8Rc4gqW</td>\n",
       "      <td>s0LlvZIdBW5wkGzB</td>\n",
       "      <td>214.327373</td>\n",
       "      <td>104.051825</td>\n",
       "      <td>30.665610</td>\n",
       "    </tr>\n",
       "    <tr>\n",
       "      <th>4</th>\n",
       "      <td>4sAqQIH9QdfTQN5f</td>\n",
       "      <td>Zxer5hxK37a07CV9</td>\n",
       "      <td>574.814013</td>\n",
       "      <td>104.057995</td>\n",
       "      <td>30.653514</td>\n",
       "    </tr>\n",
       "  </tbody>\n",
       "</table>\n",
       "</div>"
      ],
      "text/plain": [
       "                  0                 1           2           3          4\n",
       "0  9wiKXmAeQtAMRXDw  o2Iz2of0SN9CCguR  115.753328  104.057165  30.652979\n",
       "1  9wiKXmAeQtAMRXDw  o2Iz2of0SN9CCguR  115.753328  104.048498  30.656291\n",
       "2  WoqsiHBVG8Rc4gqW  s0LlvZIdBW5wkGzB  214.327373  104.045758  30.658250\n",
       "3  WoqsiHBVG8Rc4gqW  s0LlvZIdBW5wkGzB  214.327373  104.051825  30.665610\n",
       "4  4sAqQIH9QdfTQN5f  Zxer5hxK37a07CV9  574.814013  104.057995  30.653514"
      ]
     },
     "execution_count": 3,
     "metadata": {},
     "output_type": "execute_result"
    }
   ],
   "source": [
    "data = pd.read_csv(\"./20210924_order.csv\",header=None)\n",
    "data.head()"
   ]
  },
  {
   "cell_type": "code",
   "execution_count": 6,
   "metadata": {},
   "outputs": [],
   "source": [
    "from geopy.distance import geodesic"
   ]
  },
  {
   "cell_type": "markdown",
   "metadata": {},
   "source": []
  },
  {
   "cell_type": "code",
   "execution_count": 14,
   "metadata": {},
   "outputs": [],
   "source": [
    "dis = []\n",
    "for i in range(len(data)//2):\n",
    "    dis.append(geodesic((float(data[4][2*i]),float(data[3][2*i])), (float(data[4][2*i+1]),float(data[3][2*i+1]))).km)"
   ]
  },
  {
   "cell_type": "code",
   "execution_count": 16,
   "metadata": {},
   "outputs": [
    {
     "data": {
      "text/plain": [
       "(array([965., 987., 713., 464., 306., 211., 118.,  38.,  10.,   2.]),\n",
       " array([ 0.05208687,  1.18830786,  2.32452885,  3.46074985,  4.59697084,\n",
       "         5.73319183,  6.86941282,  8.00563381,  9.1418548 , 10.2780758 ,\n",
       "        11.41429679]),\n",
       " <BarContainer object of 10 artists>)"
      ]
     },
     "execution_count": 16,
     "metadata": {},
     "output_type": "execute_result"
    },
    {
     "data": {
      "image/png": "[encoded data removed]",
      "text/plain": [
       "<Figure size 432x288 with 1 Axes>"
      ]
     },
     "metadata": {
      "needs_background": "light"
     },
     "output_type": "display_data"
    }
   ],
   "source": [
    "import matplotlib.pyplot as plt\n",
    "plt.hist(dis)"
   ]
  },
  {
   "cell_type": "code",
   "execution_count": 17,
   "metadata": {},
   "outputs": [
    {
     "data": {
      "text/plain": [
       "(array([1569., 1723.,  715.,  731.,  644.,  637.,  373.,  378.,  430.,\n",
       "         428.]),\n",
       " array([104.04215345, 104.0508939 , 104.05963436, 104.06837481,\n",
       "        104.07711526, 104.08585571, 104.09459616, 104.10333662,\n",
       "        104.11207707, 104.12081752, 104.12955797]),\n",
       " <BarContainer object of 10 artists>)"
      ]
     },
     "execution_count": 17,
     "metadata": {},
     "output_type": "execute_result"
    },
    {
     "data": {
      "image/png": "[encoded data removed]",
      "text/plain": [
       "<Figure size 432x288 with 1 Axes>"
      ]
     },
     "metadata": {
      "needs_background": "light"
     },
     "output_type": "display_data"
    }
   ],
   "source": [
    "plt.hist(data[3])"
   ]
  }
 ],
 "metadata": {
  "interpreter": {
   "hash": "916dbcbb3f70747c44a77c7bcd40155683ae19c65e1c03b4aa3499c5328201f1"
  },
  "kernelspec": {
   "display_name": "Python 3.8.6 64-bit",
   "name": "python3"
  },
  "language_info": {
   "codemirror_mode": {
    "name": "ipython",
    "version": 3
   },
   "file_extension": ".py",
   "mimetype": "text/x-python",
   "name": "python",
   "nbconvert_exporter": "python",
   "pygments_lexer": "ipython3",
   "version": "3.8.6"
  },
  "orig_nbformat": 4
 },
 "nbformat": 4,
 "nbformat_minor": 2
}